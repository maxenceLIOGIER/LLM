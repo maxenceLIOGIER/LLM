{
 "cells": [
  {
   "cell_type": "code",
   "execution_count": 1,
   "metadata": {},
   "outputs": [
    {
     "name": "stdout",
     "output_type": "stream",
     "text": [
      "Collecting ipywidgets\n",
      "  Using cached ipywidgets-8.1.5-py3-none-any.whl.metadata (2.3 kB)\n",
      "Requirement already satisfied: comm>=0.1.3 in c:\\users\\joel\\appdata\\roaming\\python\\python311\\site-packages (from ipywidgets) (0.2.2)\n",
      "Requirement already satisfied: ipython>=6.1.0 in c:\\users\\joel\\appdata\\roaming\\python\\python311\\site-packages (from ipywidgets) (8.27.0)\n",
      "Requirement already satisfied: traitlets>=4.3.1 in c:\\users\\joel\\appdata\\roaming\\python\\python311\\site-packages (from ipywidgets) (5.14.3)\n",
      "Collecting widgetsnbextension~=4.0.12 (from ipywidgets)\n",
      "  Using cached widgetsnbextension-4.0.13-py3-none-any.whl.metadata (1.6 kB)\n",
      "Collecting jupyterlab-widgets~=3.0.12 (from ipywidgets)\n",
      "  Using cached jupyterlab_widgets-3.0.13-py3-none-any.whl.metadata (4.1 kB)\n",
      "Requirement already satisfied: decorator in c:\\users\\joel\\appdata\\roaming\\python\\python311\\site-packages (from ipython>=6.1.0->ipywidgets) (5.1.1)\n",
      "Requirement already satisfied: jedi>=0.16 in c:\\users\\joel\\appdata\\roaming\\python\\python311\\site-packages (from ipython>=6.1.0->ipywidgets) (0.19.1)\n",
      "Requirement already satisfied: matplotlib-inline in c:\\users\\joel\\appdata\\roaming\\python\\python311\\site-packages (from ipython>=6.1.0->ipywidgets) (0.1.7)\n",
      "Requirement already satisfied: prompt-toolkit<3.1.0,>=3.0.41 in c:\\users\\joel\\appdata\\roaming\\python\\python311\\site-packages (from ipython>=6.1.0->ipywidgets) (3.0.48)\n",
      "Requirement already satisfied: pygments>=2.4.0 in c:\\users\\joel\\appdata\\roaming\\python\\python311\\site-packages (from ipython>=6.1.0->ipywidgets) (2.18.0)\n",
      "Requirement already satisfied: stack-data in c:\\users\\joel\\appdata\\roaming\\python\\python311\\site-packages (from ipython>=6.1.0->ipywidgets) (0.6.3)\n",
      "Requirement already satisfied: typing-extensions>=4.6 in c:\\users\\joel\\appdata\\roaming\\python\\python311\\site-packages (from ipython>=6.1.0->ipywidgets) (4.12.2)\n",
      "Requirement already satisfied: colorama in c:\\users\\joel\\appdata\\roaming\\python\\python311\\site-packages (from ipython>=6.1.0->ipywidgets) (0.4.6)\n",
      "Requirement already satisfied: parso<0.9.0,>=0.8.3 in c:\\users\\joel\\appdata\\roaming\\python\\python311\\site-packages (from jedi>=0.16->ipython>=6.1.0->ipywidgets) (0.8.4)\n",
      "Requirement already satisfied: wcwidth in c:\\users\\joel\\appdata\\roaming\\python\\python311\\site-packages (from prompt-toolkit<3.1.0,>=3.0.41->ipython>=6.1.0->ipywidgets) (0.2.13)\n",
      "Requirement already satisfied: executing>=1.2.0 in c:\\users\\joel\\appdata\\roaming\\python\\python311\\site-packages (from stack-data->ipython>=6.1.0->ipywidgets) (2.1.0)\n",
      "Requirement already satisfied: asttokens>=2.1.0 in c:\\users\\joel\\appdata\\roaming\\python\\python311\\site-packages (from stack-data->ipython>=6.1.0->ipywidgets) (2.4.1)\n",
      "Requirement already satisfied: pure-eval in c:\\users\\joel\\appdata\\roaming\\python\\python311\\site-packages (from stack-data->ipython>=6.1.0->ipywidgets) (0.2.3)\n",
      "Requirement already satisfied: six>=1.12.0 in c:\\users\\joel\\appdata\\roaming\\python\\python311\\site-packages (from asttokens>=2.1.0->stack-data->ipython>=6.1.0->ipywidgets) (1.16.0)\n",
      "Using cached ipywidgets-8.1.5-py3-none-any.whl (139 kB)\n",
      "Using cached jupyterlab_widgets-3.0.13-py3-none-any.whl (214 kB)\n",
      "Using cached widgetsnbextension-4.0.13-py3-none-any.whl (2.3 MB)\n",
      "Installing collected packages: widgetsnbextension, jupyterlab-widgets, ipywidgets\n",
      "Successfully installed ipywidgets-8.1.5 jupyterlab-widgets-3.0.13 widgetsnbextension-4.0.13\n",
      "Note: you may need to restart the kernel to use updated packages.\n"
     ]
    }
   ],
   "source": [
    "# %pip install --quiet --upgrade langchain-text-splitters langchain-community langgraph\n",
    "# %pip install -qU langchain-mistralai\n",
    "# %pip install -qU langchain-chroma\n",
    "# %pip install ipywidgets"
   ]
  },
  {
   "cell_type": "code",
   "execution_count": 1,
   "metadata": {},
   "outputs": [],
   "source": [
    "# charger les clés\n",
    "import os\n",
    "from dotenv import load_dotenv, find_dotenv\n",
    "\n",
    "load_dotenv()\n",
    "# os.environ[\"HF_TOKEN\"] = os.getenv(\"HF_TOKEN\")\n",
    "os.environ[\"MISTRAL_API_KEY\"] = os.getenv(\"MISTRAL_API_KEY\")\n",
    "# os.environ[\"MISTRALAI_API_KEY\"] = os.getenv(\"MISTRAL_API_KEY\")\n",
    "# os.environ[\"LANGSMITH_API_KEY\"] = os.getenv(\"LANGSMITH_API_KEY\")"
   ]
  },
  {
   "cell_type": "code",
   "execution_count": 2,
   "metadata": {},
   "outputs": [],
   "source": [
    "import time\n",
    "import re\n",
    "from langchain_mistralai import MistralAIEmbeddings\n",
    "from langchain_chroma import Chroma\n",
    "import xml.etree.ElementTree as ET\n",
    "from langchain.text_splitter import RecursiveCharacterTextSplitter\n",
    "from uuid import uuid4\n"
   ]
  },
  {
   "cell_type": "code",
   "execution_count": 6,
   "metadata": {},
   "outputs": [
    {
     "name": "stdout",
     "output_type": "stream",
     "text": [
      "Number of stored documents: 0\n"
     ]
    }
   ],
   "source": [
    "embeddings = MistralAIEmbeddings(model=\"mistral-embed\")\n",
    "\n",
    "chunk_size = 2000\n",
    "chunk_overlap = 100\n",
    "vector_store = Chroma(\n",
    "    collection_name=\"statpearls_articles\",\n",
    "    embedding_function=embeddings,\n",
    "    persist_directory=f\"./embed_s{chunk_size}_o{chunk_overlap}\",\n",
    ")\n",
    "print(\"Number of stored documents:\", vector_store._collection.count())"
   ]
  },
  {
   "cell_type": "code",
   "execution_count": 7,
   "metadata": {},
   "outputs": [],
   "source": [
    "def preprocess(text: str):\n",
    "    text = re.sub(\"\\xa0\", ' ', text)\n",
    "    return text\n"
   ]
  },
  {
   "cell_type": "code",
   "execution_count": 8,
   "metadata": {},
   "outputs": [],
   "source": [
    "def parse_and_add_document(filepath:str):\n",
    "    tree = ET.parse(filepath)\n",
    "    root = tree.getroot()\n",
    "    title = root.find(\"./book-part/book-part-meta/title-group/title\").text\n",
    "    body = root.find(\"./book-part/body\")\n",
    "    sections = body.findall(\".//sec\")\n",
    "    for i in range(len(sections)):\n",
    "        meta = {\"book_title\": title,\n",
    "                \"section\": sections[i].find(\"./title\").text if sections[i].find(\"./title\") is not None else sections[i].attrib[\"sec-type\"]}\n",
    "        paragraphs = [paragraph.text for paragraph in sections[i].findall(\".//p\") if paragraph.text not in  [\"\\n\", '', None]]\n",
    "        if paragraphs is None:\n",
    "            continue\n",
    "        content = preprocess(' '.join(paragraphs))\n",
    "        text_splitter = RecursiveCharacterTextSplitter(chunk_size=chunk_size, chunk_overlap=chunk_overlap)\n",
    "        split_texts = text_splitter.split_text(content)\n",
    "        if split_texts == []:\n",
    "            print(content)\n",
    "            continue\n",
    "        vector_store.add_texts(texts=split_texts, doc_id=[str(uuid4()) for _ in range(len(split_texts))], metadatas=[{\"chunk_index\": idx, **meta} for idx in range(len(split_texts))])\n",
    "        time.sleep(2)"
   ]
  },
  {
   "cell_type": "code",
   "execution_count": 9,
   "metadata": {},
   "outputs": [
    {
     "data": {
      "text/plain": [
       "31"
      ]
     },
     "execution_count": 9,
     "metadata": {},
     "output_type": "execute_result"
    }
   ],
   "source": [
    "import os\n",
    "\n",
    "def find_files_with_word(folder_path, word):\n",
    "    matching_files = []\n",
    "    files = os.listdir(folder_path)\n",
    "    for file in files:\n",
    "        file_path = os.path.join(folder_path, file)\n",
    "        try:\n",
    "            with open(file_path, 'r', encoding='utf-8') as f:\n",
    "                content = f.read().lower()\n",
    "                if word.lower() in content:\n",
    "                    matching_files.append(file_path)\n",
    "        except Exception as e:\n",
    "            print(f\"fail {file_path}: {e}\")\n",
    "    \n",
    "    return matching_files\n",
    "\n",
    "folder = \"./data/articles\"\n",
    "word_to_search = \"ruptured aneurysm\"\n",
    "result = find_files_with_word(folder, word_to_search)\n",
    "len(result)\n"
   ]
  },
  {
   "cell_type": "code",
   "execution_count": null,
   "metadata": {},
   "outputs": [
    {
     "name": "stdout",
     "output_type": "stream",
     "text": [
      "./data/articles\\article-135845.nxml 0\n"
     ]
    }
   ],
   "source": [
    "i = 0\n",
    "for file in result:\n",
    "    print(f\"{file} {i}\")\n",
    "    parse_and_add_document(file)\n",
    "    i += 1\n",
    "i\n",
    "\n"
   ]
  },
  {
   "cell_type": "code",
   "execution_count": 17,
   "metadata": {},
   "outputs": [
    {
     "name": "stdout",
     "output_type": "stream",
     "text": [
      "Number of stored documents: 0\n"
     ]
    }
   ],
   "source": [
    "print(\"Number of stored documents:\", vector_store._collection.count())\n"
   ]
  }
 ],
 "metadata": {
  "kernelspec": {
   "display_name": "nancy",
   "language": "python",
   "name": "python3"
  },
  "language_info": {
   "codemirror_mode": {
    "name": "ipython",
    "version": 3
   },
   "file_extension": ".py",
   "mimetype": "text/x-python",
   "name": "python",
   "nbconvert_exporter": "python",
   "pygments_lexer": "ipython3",
   "version": "3.11.11"
  }
 },
 "nbformat": 4,
 "nbformat_minor": 2
}
