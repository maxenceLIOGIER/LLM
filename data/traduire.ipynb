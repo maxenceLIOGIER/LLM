{
 "cells": [
  {
   "cell_type": "code",
   "execution_count": 1,
   "metadata": {},
   "outputs": [
    {
     "name": "stderr",
     "output_type": "stream",
     "text": [
      "c:\\Users\\beranger\\anaconda3\\envs\\whisper\\lib\\site-packages\\tqdm\\auto.py:21: TqdmWarning: IProgress not found. Please update jupyter and ipywidgets. See https://ipywidgets.readthedocs.io/en/stable/user_install.html\n",
      "  from .autonotebook import tqdm as notebook_tqdm\n",
      "c:\\Users\\beranger\\anaconda3\\envs\\whisper\\lib\\site-packages\\huggingface_hub\\file_download.py:140: UserWarning: `huggingface_hub` cache-system uses symlinks by default to efficiently store duplicated files but your machine does not support them in C:\\Users\\beranger\\.cache\\huggingface\\hub\\models--Helsinki-NLP--opus-mt-en-fr. Caching files will still work but in a degraded version that might require more space on your disk. This warning can be disabled by setting the `HF_HUB_DISABLE_SYMLINKS_WARNING` environment variable. For more details, see https://huggingface.co/docs/huggingface_hub/how-to-cache#limitations.\n",
      "To support symlinks on Windows, you either need to activate Developer Mode or to run Python as an administrator. In order to activate developer mode, see this article: https://docs.microsoft.com/en-us/windows/apps/get-started/enable-your-device-for-development\n",
      "  warnings.warn(message)\n",
      "c:\\Users\\beranger\\anaconda3\\envs\\whisper\\lib\\site-packages\\transformers\\models\\marian\\tokenization_marian.py:175: UserWarning: Recommended: pip install sacremoses.\n",
      "  warnings.warn(\"Recommended: pip install sacremoses.\")\n",
      "Device set to use cpu\n"
     ]
    },
    {
     "name": "stdout",
     "output_type": "stream",
     "text": [
      "Translated call_282.wav-urgent.txt -> call_282.wav-urgent_fr.txt\n",
      "Translated call_282.wav-urgent_fr.txt -> call_282.wav-urgent_fr_fr.txt\n",
      "Translated call_299.wav-urgent.txt -> call_299.wav-urgent_fr.txt\n",
      "Translated call_299.wav-urgent_fr.txt -> call_299.wav-urgent_fr_fr.txt\n",
      "Translated call_401.wav-urgent.txt -> call_401.wav-urgent_fr.txt\n",
      "Translated call_401.wav-urgent_fr.txt -> call_401.wav-urgent_fr_fr.txt\n",
      "Translated call_415.wav-urgent.txt -> call_415.wav-urgent_fr.txt\n",
      "Translated call_497.wav-urgent.txt -> call_497.wav-urgent_fr.txt\n",
      "Translated call_59.wav-urgent.txt -> call_59.wav-urgent_fr.txt\n",
      "Translated call_59.wav-urgent_fr.txt -> call_59.wav-urgent_fr_fr.txt\n",
      "Translated call_740.wav-urgent.txt -> call_740.wav-urgent_fr.txt\n"
     ]
    }
   ],
   "source": [
    "import glob\n",
    "import os\n",
    "from transformers import pipeline\n",
    "\n",
    "# Initialize translator using Helsinki-NLP's French translation model\n",
    "translator = pipeline(\"translation\", model=\"Helsinki-NLP/opus-mt-en-fr\")\n",
    "\n",
    "# Get all files matching the pattern\n",
    "files = glob.glob(\"call_*.txt\")\n",
    "\n",
    "# Process each file\n",
    "for file in files:\n",
    "    # Read the English content\n",
    "    with open(file, \"r\", encoding=\"utf-8\") as f:\n",
    "        english_text = f.read()\n",
    "\n",
    "    # Translate to French\n",
    "    try:\n",
    "        translation = translator(english_text, max_length=512)\n",
    "        french_text = translation[0][\"translation_text\"]\n",
    "    except Exception as e:\n",
    "        print(f\"Translation error for {file}: {str(e)}\")\n",
    "        french_text = english_text  # Fallback to original text\n",
    "\n",
    "    # Create new filename with _fr suffix\n",
    "    base_name = os.path.splitext(file)[0]\n",
    "    french_file = f\"{base_name}_fr.txt\"\n",
    "\n",
    "    # Save the translated text\n",
    "    with open(french_file, \"w\", encoding=\"utf-8\") as f:\n",
    "        f.write(french_text)\n",
    "\n",
    "    print(f\"Translated {file} -> {french_file}\")"
   ]
  }
 ],
 "metadata": {
  "kernelspec": {
   "display_name": "whisper",
   "language": "python",
   "name": "python3"
  },
  "language_info": {
   "codemirror_mode": {
    "name": "ipython",
    "version": 3
   },
   "file_extension": ".py",
   "mimetype": "text/x-python",
   "name": "python",
   "nbconvert_exporter": "python",
   "pygments_lexer": "ipython3",
   "version": "3.9.21"
  }
 },
 "nbformat": 4,
 "nbformat_minor": 2
}
