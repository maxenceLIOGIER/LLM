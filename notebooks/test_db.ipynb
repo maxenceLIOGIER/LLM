{
 "cells": [
  {
   "cell_type": "code",
   "execution_count": 11,
   "metadata": {},
   "outputs": [
    {
     "data": {
      "text/plain": [
       "'c:\\\\Users\\\\maxen\\\\Documents\\\\_SISE\\\\LLM\\\\Projet Clovis\\\\LLM\\\\database\\\\db_logs.db'"
      ]
     },
     "execution_count": 11,
     "metadata": {},
     "output_type": "execute_result"
    }
   ],
   "source": [
    "import sqlite3\n",
    "import os\n",
    "\n",
    "# current directory\n",
    "parent_dir = os.path.dirname(os.getcwd())\n",
    "db_path = os.path.join(parent_dir, 'database', 'db_logs.db')\n",
    "db_path"
   ]
  },
  {
   "cell_type": "code",
   "execution_count": 17,
   "metadata": {},
   "outputs": [],
   "source": [
    "# Connexion à la base de données\n",
    "conn = sqlite3.connect(db_path)\n",
    "\n",
    "# Création d'un curseur\n",
    "cursor = conn.cursor()\n",
    "\n",
    "# Exemple de requête : sélection de toutes les lignes d'une table\n",
    "cursor.execute(\"SELECT * FROM ORIGIN\")\n",
    "\n",
    "# Récupération des résultats\n",
    "rows = cursor.fetchall()\n",
    "\n",
    "# Affichage des résultats\n",
    "for row in rows:\n",
    "    print(row)"
   ]
  }
 ],
 "metadata": {
  "kernelspec": {
   "display_name": "env_proj_llm",
   "language": "python",
   "name": "python3"
  },
  "language_info": {
   "codemirror_mode": {
    "name": "ipython",
    "version": 3
   },
   "file_extension": ".py",
   "mimetype": "text/x-python",
   "name": "python",
   "nbconvert_exporter": "python",
   "pygments_lexer": "ipython3",
   "version": "3.11.11"
  }
 },
 "nbformat": 4,
 "nbformat_minor": 2
}
